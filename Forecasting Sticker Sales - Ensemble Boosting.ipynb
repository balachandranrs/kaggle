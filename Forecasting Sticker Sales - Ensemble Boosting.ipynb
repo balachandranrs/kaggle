{
 "cells": [
  {
   "cell_type": "code",
   "execution_count": 1,
   "id": "4e198fd0",
   "metadata": {
    "_cell_guid": "b1076dfc-b9ad-4769-8c92-a6c4dae69d19",
    "_uuid": "8f2839f25d086af736a60e9eeb907d3b93b6e0e5",
    "execution": {
     "iopub.execute_input": "2025-01-31T12:40:54.400467Z",
     "iopub.status.busy": "2025-01-31T12:40:54.400072Z",
     "iopub.status.idle": "2025-01-31T12:40:55.456769Z",
     "shell.execute_reply": "2025-01-31T12:40:55.455038Z"
    },
    "papermill": {
     "duration": 1.06337,
     "end_time": "2025-01-31T12:40:55.458780",
     "exception": false,
     "start_time": "2025-01-31T12:40:54.395410",
     "status": "completed"
    },
    "tags": []
   },
   "outputs": [
    {
     "name": "stdout",
     "output_type": "stream",
     "text": [
      "/kaggle/input/playground-series-s5e1/sample_submission.csv\n",
      "/kaggle/input/playground-series-s5e1/train.csv\n",
      "/kaggle/input/playground-series-s5e1/test.csv\n"
     ]
    }
   ],
   "source": [
    "# This Python 3 environment comes with many helpful analytics libraries installed\n",
    "# It is defined by the kaggle/python Docker image: https://github.com/kaggle/docker-python\n",
    "# For example, here's several helpful packages to load\n",
    "\n",
    "import numpy as np # linear algebra\n",
    "import pandas as pd # data processing, CSV file I/O (e.g. pd.read_csv)\n",
    "\n",
    "import warnings\n",
    "warnings.filterwarnings('ignore')\n",
    "\n",
    "# Input data files are available in the read-only \"../input/\" directory\n",
    "# For example, running this (by clicking run or pressing Shift+Enter) will list all files under the input directory\n",
    "\n",
    "import os\n",
    "for dirname, _, filenames in os.walk('/kaggle/input'):\n",
    "    for filename in filenames:\n",
    "        print(os.path.join(dirname, filename))\n",
    "\n",
    "# You can write up to 20GB to the current directory (/kaggle/working/) that gets preserved as output when you create a version using \"Save & Run All\" \n",
    "# You can also write temporary files to /kaggle/temp/, but they won't be saved outside of the current session"
   ]
  },
  {
   "cell_type": "code",
   "execution_count": 2,
   "id": "23dd9e2f",
   "metadata": {
    "execution": {
     "iopub.execute_input": "2025-01-31T12:40:55.467860Z",
     "iopub.status.busy": "2025-01-31T12:40:55.467151Z",
     "iopub.status.idle": "2025-01-31T12:40:55.988708Z",
     "shell.execute_reply": "2025-01-31T12:40:55.987404Z"
    },
    "papermill": {
     "duration": 0.527935,
     "end_time": "2025-01-31T12:40:55.990638",
     "exception": false,
     "start_time": "2025-01-31T12:40:55.462703",
     "status": "completed"
    },
    "tags": []
   },
   "outputs": [
    {
     "name": "stdout",
     "output_type": "stream",
     "text": [
      "   id        date country              store             product  num_sold\n",
      "0   0  2010-01-01  Canada  Discount Stickers   Holographic Goose       NaN\n",
      "1   1  2010-01-01  Canada  Discount Stickers              Kaggle     973.0\n",
      "2   2  2010-01-01  Canada  Discount Stickers        Kaggle Tiers     906.0\n",
      "3   3  2010-01-01  Canada  Discount Stickers            Kerneler     423.0\n",
      "4   4  2010-01-01  Canada  Discount Stickers  Kerneler Dark Mode     491.0\n",
      "5   5  2010-01-01  Canada  Stickers for Less   Holographic Goose     300.0\n"
     ]
    }
   ],
   "source": [
    "train = pd.read_csv('/kaggle/input/playground-series-s5e1/train.csv')\n",
    "test = pd.read_csv('/kaggle/input/playground-series-s5e1/test.csv')\n",
    "print(train.head(6))"
   ]
  },
  {
   "cell_type": "code",
   "execution_count": 3,
   "id": "3034c41e",
   "metadata": {
    "execution": {
     "iopub.execute_input": "2025-01-31T12:40:55.998541Z",
     "iopub.status.busy": "2025-01-31T12:40:55.998212Z",
     "iopub.status.idle": "2025-01-31T12:40:56.007417Z",
     "shell.execute_reply": "2025-01-31T12:40:56.006105Z"
    },
    "papermill": {
     "duration": 0.015129,
     "end_time": "2025-01-31T12:40:56.009226",
     "exception": false,
     "start_time": "2025-01-31T12:40:55.994097",
     "status": "completed"
    },
    "tags": []
   },
   "outputs": [
    {
     "data": {
      "text/plain": [
       "id            int64\n",
       "date         object\n",
       "country      object\n",
       "store        object\n",
       "product      object\n",
       "num_sold    float64\n",
       "dtype: object"
      ]
     },
     "execution_count": 3,
     "metadata": {},
     "output_type": "execute_result"
    }
   ],
   "source": [
    "train.dtypes"
   ]
  },
  {
   "cell_type": "code",
   "execution_count": 4,
   "id": "4c5e0550",
   "metadata": {
    "execution": {
     "iopub.execute_input": "2025-01-31T12:40:56.016958Z",
     "iopub.status.busy": "2025-01-31T12:40:56.016575Z",
     "iopub.status.idle": "2025-01-31T12:42:04.766966Z",
     "shell.execute_reply": "2025-01-31T12:42:04.765585Z"
    },
    "papermill": {
     "duration": 68.756577,
     "end_time": "2025-01-31T12:42:04.769197",
     "exception": false,
     "start_time": "2025-01-31T12:40:56.012620",
     "status": "completed"
    },
    "tags": []
   },
   "outputs": [
    {
     "name": "stdout",
     "output_type": "stream",
     "text": [
      "0:\tlearn: 0.9834042\ttotal: 222ms\tremaining: 3m 41s\n",
      "100:\tlearn: 0.1664849\ttotal: 7.03s\tremaining: 1m 2s\n",
      "200:\tlearn: 0.1597024\ttotal: 13.5s\tremaining: 53.7s\n",
      "300:\tlearn: 0.1570992\ttotal: 20.3s\tremaining: 47.2s\n",
      "400:\tlearn: 0.1557519\ttotal: 26.8s\tremaining: 40s\n",
      "500:\tlearn: 0.1545580\ttotal: 33.2s\tremaining: 33s\n",
      "600:\tlearn: 0.1537465\ttotal: 39.6s\tremaining: 26.3s\n",
      "700:\tlearn: 0.1527565\ttotal: 46s\tremaining: 19.6s\n",
      "800:\tlearn: 0.1524021\ttotal: 52.9s\tremaining: 13.1s\n",
      "900:\tlearn: 0.1520118\ttotal: 59.3s\tremaining: 6.51s\n",
      "999:\tlearn: 0.1516890\ttotal: 1m 5s\tremaining: 0us\n"
     ]
    }
   ],
   "source": [
    "from catboost import CatBoostRegressor\n",
    "from catboost import Pool\n",
    "\n",
    "train['num_sold'] = train['num_sold'].fillna(train['num_sold'].mean())\n",
    "train['num_sold'] = np.log(train['num_sold'])\n",
    "\n",
    "X = train.drop(columns = ['id', 'num_sold']).astype('str').astype('category')\n",
    "y = train['num_sold']\n",
    "\n",
    "x_test = test.drop(columns = 'id').astype('str').astype('category')\n",
    "\n",
    "train_pool = Pool(data = X, label = y, cat_features = X.columns.values)\n",
    "test_pool = Pool(data = x_test, cat_features = x_test.columns.values)\n",
    "\n",
    "catboost_model = CatBoostRegressor(\n",
    "                    iterations = 1000,\n",
    "                    learning_rate = 0.1,\n",
    "                    depth = 6,\n",
    "                    cat_features = X.columns.values,\n",
    "                    loss_function = 'MAE',\n",
    "                    verbose = 100\n",
    ")\n",
    "\n",
    "catboost_model.fit(train_pool)\n",
    "\n",
    "cat_train = catboost_model.predict(train_pool).reshape(-1,1)\n",
    "cat_test = catboost_model.predict(test_pool).reshape(-1,1)"
   ]
  },
  {
   "cell_type": "code",
   "execution_count": 5,
   "id": "abd1f401",
   "metadata": {
    "execution": {
     "iopub.execute_input": "2025-01-31T12:42:04.779108Z",
     "iopub.status.busy": "2025-01-31T12:42:04.778677Z",
     "iopub.status.idle": "2025-01-31T12:42:38.532498Z",
     "shell.execute_reply": "2025-01-31T12:42:38.531596Z"
    },
    "papermill": {
     "duration": 33.761347,
     "end_time": "2025-01-31T12:42:38.534918",
     "exception": false,
     "start_time": "2025-01-31T12:42:04.773571",
     "status": "completed"
    },
    "tags": []
   },
   "outputs": [],
   "source": [
    "import xgboost as xgb\n",
    "\n",
    "dtrain = xgb.DMatrix(X, label=y, enable_categorical=True)\n",
    "dtest = xgb.DMatrix(x_test, enable_categorical=True)\n",
    "\n",
    "params = {\n",
    "    'objective': 'reg:squarederror',\n",
    "    'max_depth': 6,\n",
    "    'eta': 0.1,\n",
    "    'subsample': 0.8,\n",
    "    'colsample_bytree': 0.8,\n",
    "    'eval_metric': 'rmse',\n",
    "    'seed': 42,\n",
    "}\n",
    "xgb_model = xgb.train(params, dtrain, 1000, verbose_eval=100)\n",
    "xgb_train = xgb_model.predict(dtrain).reshape(-1,1)\n",
    "xgb_test = xgb_model.predict(dtest).reshape(-1,1)"
   ]
  },
  {
   "cell_type": "code",
   "execution_count": 6,
   "id": "13bcab6d",
   "metadata": {
    "execution": {
     "iopub.execute_input": "2025-01-31T12:42:38.548491Z",
     "iopub.status.busy": "2025-01-31T12:42:38.548129Z",
     "iopub.status.idle": "2025-01-31T12:43:05.706081Z",
     "shell.execute_reply": "2025-01-31T12:43:05.705084Z"
    },
    "papermill": {
     "duration": 27.166028,
     "end_time": "2025-01-31T12:43:05.708426",
     "exception": false,
     "start_time": "2025-01-31T12:42:38.542398",
     "status": "completed"
    },
    "tags": []
   },
   "outputs": [
    {
     "name": "stdout",
     "output_type": "stream",
     "text": [
      "[LightGBM] [Warning] Categorical features with more bins than the configured maximum bin number found.\n",
      "[LightGBM] [Warning] For categorical features, max_bin and max_bin_by_feature may be ignored with a large number of categories.\n",
      "[LightGBM] [Info] Auto-choosing row-wise multi-threading, the overhead of testing was 0.004619 seconds.\n",
      "You can set `force_row_wise=true` to remove the overhead.\n",
      "And if memory is not enough, you can set `force_col_wise=true`.\n",
      "[LightGBM] [Info] Total Bins 2546\n",
      "[LightGBM] [Info] Number of data points in the train set: 230130, number of used features: 4\n",
      "[LightGBM] [Info] Start training from score 5.952440\n"
     ]
    }
   ],
   "source": [
    "import lightgbm as lgb\n",
    "\n",
    "lgb_model = lgb.LGBMRegressor(n_estimators=1000, learning_rate=0.1)\n",
    "lgb_model.fit(X, y)\n",
    "lgb_train = lgb_model.predict(X).reshape(-1,1)\n",
    "lgb_test = lgb_model.predict(x_test).reshape(-1,1)"
   ]
  },
  {
   "cell_type": "code",
   "execution_count": 7,
   "id": "b1e54b73",
   "metadata": {
    "execution": {
     "iopub.execute_input": "2025-01-31T12:43:05.718397Z",
     "iopub.status.busy": "2025-01-31T12:43:05.717629Z",
     "iopub.status.idle": "2025-01-31T12:43:05.726769Z",
     "shell.execute_reply": "2025-01-31T12:43:05.725856Z"
    },
    "papermill": {
     "duration": 0.016062,
     "end_time": "2025-01-31T12:43:05.728698",
     "exception": false,
     "start_time": "2025-01-31T12:43:05.712636",
     "status": "completed"
    },
    "tags": []
   },
   "outputs": [],
   "source": [
    "stacked_train = np.hstack((xgb_train, cat_train, lgb_train))\n",
    "stacked_test = np.hstack((xgb_test, cat_test, lgb_test))"
   ]
  },
  {
   "cell_type": "code",
   "execution_count": 8,
   "id": "f6c583cd",
   "metadata": {
    "execution": {
     "iopub.execute_input": "2025-01-31T12:43:05.737950Z",
     "iopub.status.busy": "2025-01-31T12:43:05.737559Z",
     "iopub.status.idle": "2025-01-31T12:43:06.036813Z",
     "shell.execute_reply": "2025-01-31T12:43:06.035503Z"
    },
    "papermill": {
     "duration": 0.306042,
     "end_time": "2025-01-31T12:43:06.038904",
     "exception": false,
     "start_time": "2025-01-31T12:43:05.732862",
     "status": "completed"
    },
    "tags": []
   },
   "outputs": [
    {
     "data": {
      "text/html": [
       "<style>#sk-container-id-1 {color: black;background-color: white;}#sk-container-id-1 pre{padding: 0;}#sk-container-id-1 div.sk-toggleable {background-color: white;}#sk-container-id-1 label.sk-toggleable__label {cursor: pointer;display: block;width: 100%;margin-bottom: 0;padding: 0.3em;box-sizing: border-box;text-align: center;}#sk-container-id-1 label.sk-toggleable__label-arrow:before {content: \"▸\";float: left;margin-right: 0.25em;color: #696969;}#sk-container-id-1 label.sk-toggleable__label-arrow:hover:before {color: black;}#sk-container-id-1 div.sk-estimator:hover label.sk-toggleable__label-arrow:before {color: black;}#sk-container-id-1 div.sk-toggleable__content {max-height: 0;max-width: 0;overflow: hidden;text-align: left;background-color: #f0f8ff;}#sk-container-id-1 div.sk-toggleable__content pre {margin: 0.2em;color: black;border-radius: 0.25em;background-color: #f0f8ff;}#sk-container-id-1 input.sk-toggleable__control:checked~div.sk-toggleable__content {max-height: 200px;max-width: 100%;overflow: auto;}#sk-container-id-1 input.sk-toggleable__control:checked~label.sk-toggleable__label-arrow:before {content: \"▾\";}#sk-container-id-1 div.sk-estimator input.sk-toggleable__control:checked~label.sk-toggleable__label {background-color: #d4ebff;}#sk-container-id-1 div.sk-label input.sk-toggleable__control:checked~label.sk-toggleable__label {background-color: #d4ebff;}#sk-container-id-1 input.sk-hidden--visually {border: 0;clip: rect(1px 1px 1px 1px);clip: rect(1px, 1px, 1px, 1px);height: 1px;margin: -1px;overflow: hidden;padding: 0;position: absolute;width: 1px;}#sk-container-id-1 div.sk-estimator {font-family: monospace;background-color: #f0f8ff;border: 1px dotted black;border-radius: 0.25em;box-sizing: border-box;margin-bottom: 0.5em;}#sk-container-id-1 div.sk-estimator:hover {background-color: #d4ebff;}#sk-container-id-1 div.sk-parallel-item::after {content: \"\";width: 100%;border-bottom: 1px solid gray;flex-grow: 1;}#sk-container-id-1 div.sk-label:hover label.sk-toggleable__label {background-color: #d4ebff;}#sk-container-id-1 div.sk-serial::before {content: \"\";position: absolute;border-left: 1px solid gray;box-sizing: border-box;top: 0;bottom: 0;left: 50%;z-index: 0;}#sk-container-id-1 div.sk-serial {display: flex;flex-direction: column;align-items: center;background-color: white;padding-right: 0.2em;padding-left: 0.2em;position: relative;}#sk-container-id-1 div.sk-item {position: relative;z-index: 1;}#sk-container-id-1 div.sk-parallel {display: flex;align-items: stretch;justify-content: center;background-color: white;position: relative;}#sk-container-id-1 div.sk-item::before, #sk-container-id-1 div.sk-parallel-item::before {content: \"\";position: absolute;border-left: 1px solid gray;box-sizing: border-box;top: 0;bottom: 0;left: 50%;z-index: -1;}#sk-container-id-1 div.sk-parallel-item {display: flex;flex-direction: column;z-index: 1;position: relative;background-color: white;}#sk-container-id-1 div.sk-parallel-item:first-child::after {align-self: flex-end;width: 50%;}#sk-container-id-1 div.sk-parallel-item:last-child::after {align-self: flex-start;width: 50%;}#sk-container-id-1 div.sk-parallel-item:only-child::after {width: 0;}#sk-container-id-1 div.sk-dashed-wrapped {border: 1px dashed gray;margin: 0 0.4em 0.5em 0.4em;box-sizing: border-box;padding-bottom: 0.4em;background-color: white;}#sk-container-id-1 div.sk-label label {font-family: monospace;font-weight: bold;display: inline-block;line-height: 1.2em;}#sk-container-id-1 div.sk-label-container {text-align: center;}#sk-container-id-1 div.sk-container {/* jupyter's `normalize.less` sets `[hidden] { display: none; }` but bootstrap.min.css set `[hidden] { display: none !important; }` so we also need the `!important` here to be able to override the default hidden behavior on the sphinx rendered scikit-learn.org. See: https://github.com/scikit-learn/scikit-learn/issues/21755 */display: inline-block !important;position: relative;}#sk-container-id-1 div.sk-text-repr-fallback {display: none;}</style><div id=\"sk-container-id-1\" class=\"sk-top-container\"><div class=\"sk-text-repr-fallback\"><pre>Ridge()</pre><b>In a Jupyter environment, please rerun this cell to show the HTML representation or trust the notebook. <br />On GitHub, the HTML representation is unable to render, please try loading this page with nbviewer.org.</b></div><div class=\"sk-container\" hidden><div class=\"sk-item\"><div class=\"sk-estimator sk-toggleable\"><input class=\"sk-toggleable__control sk-hidden--visually\" id=\"sk-estimator-id-1\" type=\"checkbox\" checked><label for=\"sk-estimator-id-1\" class=\"sk-toggleable__label sk-toggleable__label-arrow\">Ridge</label><div class=\"sk-toggleable__content\"><pre>Ridge()</pre></div></div></div></div></div>"
      ],
      "text/plain": [
       "Ridge()"
      ]
     },
     "execution_count": 8,
     "metadata": {},
     "output_type": "execute_result"
    }
   ],
   "source": [
    "from sklearn.linear_model import Ridge\n",
    "meta_model = Ridge(alpha=1.0)\n",
    "meta_model.fit(stacked_train, y)"
   ]
  },
  {
   "cell_type": "code",
   "execution_count": 9,
   "id": "ce7cac70",
   "metadata": {
    "execution": {
     "iopub.execute_input": "2025-01-31T12:43:06.048840Z",
     "iopub.status.busy": "2025-01-31T12:43:06.048437Z",
     "iopub.status.idle": "2025-01-31T12:43:06.058185Z",
     "shell.execute_reply": "2025-01-31T12:43:06.057257Z"
    },
    "papermill": {
     "duration": 0.016875,
     "end_time": "2025-01-31T12:43:06.060152",
     "exception": false,
     "start_time": "2025-01-31T12:43:06.043277",
     "status": "completed"
    },
    "tags": []
   },
   "outputs": [],
   "source": [
    "y_pred = np.exp(meta_model.predict(stacked_test))"
   ]
  },
  {
   "cell_type": "code",
   "execution_count": 10,
   "id": "926c5b77",
   "metadata": {
    "execution": {
     "iopub.execute_input": "2025-01-31T12:43:06.069971Z",
     "iopub.status.busy": "2025-01-31T12:43:06.069560Z",
     "iopub.status.idle": "2025-01-31T12:43:06.276014Z",
     "shell.execute_reply": "2025-01-31T12:43:06.275022Z"
    },
    "papermill": {
     "duration": 0.213525,
     "end_time": "2025-01-31T12:43:06.277994",
     "exception": false,
     "start_time": "2025-01-31T12:43:06.064469",
     "status": "completed"
    },
    "tags": []
   },
   "outputs": [],
   "source": [
    "submission = pd.DataFrame({\n",
    "                'id' : test['id'],\n",
    "                'num_sold' : y_pred\n",
    "})\n",
    "\n",
    "submission.to_csv('submission.csv', index=False)"
   ]
  }
 ],
 "metadata": {
  "kaggle": {
   "accelerator": "none",
   "dataSources": [
    {
     "databundleVersionId": 10652996,
     "sourceId": 85723,
     "sourceType": "competition"
    }
   ],
   "dockerImageVersionId": 30839,
   "isGpuEnabled": false,
   "isInternetEnabled": true,
   "language": "python",
   "sourceType": "notebook"
  },
  "kernelspec": {
   "display_name": "Python 3",
   "language": "python",
   "name": "python3"
  },
  "language_info": {
   "codemirror_mode": {
    "name": "ipython",
    "version": 3
   },
   "file_extension": ".py",
   "mimetype": "text/x-python",
   "name": "python",
   "nbconvert_exporter": "python",
   "pygments_lexer": "ipython3",
   "version": "3.10.12"
  },
  "papermill": {
   "default_parameters": {},
   "duration": 135.699821,
   "end_time": "2025-01-31T12:43:07.305021",
   "environment_variables": {},
   "exception": null,
   "input_path": "__notebook__.ipynb",
   "output_path": "__notebook__.ipynb",
   "parameters": {},
   "start_time": "2025-01-31T12:40:51.605200",
   "version": "2.6.0"
  }
 },
 "nbformat": 4,
 "nbformat_minor": 5
}
